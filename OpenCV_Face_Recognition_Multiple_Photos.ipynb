{
 "cells": [
  {
   "cell_type": "code",
   "execution_count": 1,
   "metadata": {},
   "outputs": [],
   "source": [
    "import face_recognition\n",
    "import os\n",
    "import cv2"
   ]
  },
  {
   "cell_type": "code",
   "execution_count": 2,
   "metadata": {},
   "outputs": [
    {
     "name": "stdout",
     "output_type": "stream",
     "text": [
      "Match found: bill gates\n",
      "Match found: bill gates\n",
      "Match found: elon musk\n",
      "Match found: elon musk\n"
     ]
    }
   ],
   "source": [
    "KNOWN_FACES_DIR = 'C:/Users/johba/Desktop/Python/OPENCV/Known_faces'\n",
    "UNKNOWN_FACES_DIR = 'C:/Users/johba/Desktop/Python/OPENCV/Unknown_faces'\n",
    "TOLERANCE = 0.6\n",
    "FRAME_THICKNESS = 3\n",
    "FONT_THICKNESS = 2\n",
    "MODEL = 'cnn'  # default: 'hog', other one can be 'cnn' - CUDA accelerated (if available) deep-learning pretrained model\n",
    "\n",
    "known_faces = []\n",
    "known_names = []\n",
    "\n",
    "# Known faces\n",
    "for name in os.listdir(KNOWN_FACES_DIR):\n",
    "    for filename in os.listdir(f'{KNOWN_FACES_DIR}/{name}'):\n",
    "        image = face_recognition.load_image_file(f'{KNOWN_FACES_DIR}/{name}/{filename}')\n",
    "        encoding = face_recognition.face_encodings(image)[0]\n",
    "        known_faces.append(encoding)\n",
    "        known_names.append(filename.split('.')[0])\n",
    "\n",
    "# Unknown faces\n",
    "for filename in os.listdir(UNKNOWN_FACES_DIR):\n",
    "    image = face_recognition.load_image_file(f'{UNKNOWN_FACES_DIR}/{filename}')\n",
    "   \n",
    "    # This time we first grab face locations - we'll need them to draw boxes\n",
    "    locations = face_recognition.face_locations(image)\n",
    "    \n",
    "    # Now since we know loctions, we can pass them to face_encodings as second argument\n",
    "    # Without that it will search for faces once again slowing down whole process\n",
    "    encodings = face_recognition.face_encodings(image, locations)\n",
    "    \n",
    "    # We passed our image through face_locations and face_encodings, so we can modify it\n",
    "    # First we need to convert it from RGB to BGR as we are going to work with cv2\n",
    "    image = cv2.cvtColor(image, cv2.COLOR_RGB2BGR)\n",
    "    \n",
    "    for face_encoding, face_location in zip(encodings, locations):\n",
    "        # We use compare_faces (but might use face_distance as well)\n",
    "        # Returns array of True/False values in order of passed known_faces\n",
    "        results = face_recognition.compare_faces(known_faces, face_encoding)\n",
    "        match = None\n",
    "        \n",
    "        if True in results:\n",
    "            match = known_names[results.index(True)]\n",
    "            print(f'Match found: {match}')\n",
    "            top_left = (face_location[3], face_location[0])\n",
    "            bottom_right = (face_location[1], face_location[2])\n",
    "            color = [0,255,0]            \n",
    "            cv2.rectangle(image, top_left, bottom_right, color, FRAME_THICKNESS)\n",
    "            \n",
    "            top_left = (face_location[3], face_location[2])\n",
    "            bottom_right = (face_location[1], face_location[2]+22)\n",
    "            cv2.rectangle(image, top_left, bottom_right, color, cv2.FILLED)\n",
    "            cv2.putText(image, match, (face_location[3]+10, face_location[2]+15), \n",
    "            cv2.FONT_HERSHEY_SIMPLEX, .5, (200,200,200), FONT_THICKNESS)\n",
    "\n",
    "    cv2.imshow(filename, image)\n",
    "    cv2.waitKey(0)"
   ]
  }
 ],
 "metadata": {
  "kernelspec": {
   "display_name": "Python 3",
   "language": "python",
   "name": "python3"
  },
  "language_info": {
   "codemirror_mode": {
    "name": "ipython",
    "version": 3
   },
   "file_extension": ".py",
   "mimetype": "text/x-python",
   "name": "python",
   "nbconvert_exporter": "python",
   "pygments_lexer": "ipython3",
   "version": "3.7.4"
  }
 },
 "nbformat": 4,
 "nbformat_minor": 4
}
